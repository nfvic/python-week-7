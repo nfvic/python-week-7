{
 "cells": [
  {
   "cell_type": "markdown",
   "id": "b4174f7b",
   "metadata": {},
   "source": [
    "Analyzing Data with Pandas and Visualizing Results with Matplotlib\n",
    "\n",
    "This notebook demonstrates how to analyze a dataset using pandas and visualize insights using matplotlib and seaborn. We’ll use the Iris dataset in CSV format."
   ]
  },
  {
   "cell_type": "code",
   "execution_count": null,
   "id": "f9b711e4",
   "metadata": {},
   "outputs": [],
   "source": [
    "import pandas as pd\n",
    "import matplotlib.pyplot as plt\n",
    "import seaborn as sns\n",
    "\n",
    "# Apply seaborn styling\n",
    "sns.set_style('whitegrid')"
   ]
  },
  {
   "cell_type": "markdown",
   "id": "e5dcba0b",
   "metadata": {},
   "source": [
    " Task 1: Load and Explore the Dataset\n",
    "Load the Iris dataset from a CSV file and inspect its structure."
   ]
  },
  {
   "cell_type": "code",
   "execution_count": null,
   "id": "afdd9a79",
   "metadata": {},
   "outputs": [],
   "source": [
    "try:\n",
    "    df = pd.read_csv('iris.csv')\n",
    "    print(\"Dataset loaded successfully.\")\n",
    "    \n",
    "    # First few rows\n",
    "    display(df.head())\n",
    "    \n",
    "    # Data types\n",
    "    print(\"\\nData types:\")\n",
    "    print(df.dtypes)\n",
    "    \n",
    "    # Missing values\n",
    "    print(\"\\nMissing values per column:\")\n",
    "    print(df.isnull().sum())\n",
    "    \n",
    "except FileNotFoundError:\n",
    "    print(\"Error: Dataset file not found.\")\n",
    "except Exception as e:\n",
    "    print(f\"An error occurred: {e}\")"
   ]
  },
  {
   "cell_type": "markdown",
   "id": "82b9a2a7",
   "metadata": {},
   "source": [
    "Task 2: Basic Data Analysis\n",
    "We analyze basic statistics and perform group operations."
   ]
  },
  {
   "cell_type": "code",
   "execution_count": null,
   "id": "ac913879",
   "metadata": {},
   "outputs": [],
   "source": [
    "# Descriptive statistics\n",
    "display(df.describe())\n",
    "\n",
    "# Mean values per species\n",
    "display(df.groupby('species').mean())"
   ]
  },
  {
   "cell_type": "markdown",
   "id": "0070e4d4",
   "metadata": {},
   "source": [
    "Task 3: Data Visualizations\n",
    "We create various plots to understand the dataset better."
   ]
  },
  {
   "cell_type": "code",
   "execution_count": null,
   "id": "2c6b759f",
   "metadata": {},
   "outputs": [],
   "source": [
    "# Line chart\n",
    "plt.figure(figsize=(10, 6))\n",
    "plt.plot(df.index, df['sepal length (cm)'], label='Sepal Length', color='blue')\n",
    "plt.title('Sepal Length Across Samples')\n",
    "plt.xlabel('Sample Index')\n",
    "plt.ylabel('Sepal Length (cm)')\n",
    "plt.legend()\n",
    "plt.show()"
   ]
  },
  {
   "cell_type": "code",
   "execution_count": null,
   "id": "13794cca",
   "metadata": {},
   "outputs": [],
   "source": [
    "# Bar chart: Average petal length by species\n",
    "mean_petal = df.groupby('species')['petal length (cm)'].mean()\n",
    "plt.figure(figsize=(10, 6))\n",
    "plt.bar(mean_petal.index, mean_petal.values, color=['green', 'blue', 'red'])\n",
    "plt.title('Average Petal Length by Species')\n",
    "plt.xlabel('Species')\n",
    "plt.ylabel('Average Length (cm)')\n",
    "plt.show()"
   ]
  },
  {
   "cell_type": "code",
   "execution_count": null,
   "id": "7fb68d49",
   "metadata": {},
   "outputs": [],
   "source": [
    "# Histogram\n",
    "plt.figure(figsize=(10, 6))\n",
    "plt.hist(df['sepal length (cm)'], bins=15, color='purple', edgecolor='black')\n",
    "plt.title('Distribution of Sepal Lengths')\n",
    "plt.xlabel('Sepal Length (cm)')\n",
    "plt.ylabel('Frequency')\n",
    "plt.show()"
   ]
  },
  {
   "cell_type": "code",
   "execution_count": null,
   "id": "de6d7830",
   "metadata": {},
   "outputs": [],
   "source": [
    "# Scatter plot\n",
    "plt.figure(figsize=(10, 6))\n",
    "colors = {'setosa': 'red', 'versicolor': 'green', 'virginica': 'blue'}\n",
    "plt.scatter(df['sepal length (cm)'], df['petal length (cm)'],\n",
    "            c=df['species'].map(colors), alpha=0.7)\n",
    "plt.title('Sepal vs. Petal Length')\n",
    "plt.xlabel('Sepal Length (cm)')\n",
    "plt.ylabel('Petal Length (cm)')\n",
    "handles = [plt.Line2D([0], [0], marker='o', color='w', markerfacecolor=color, markersize=10)\n",
    "           for color in colors.values()]\n",
    "plt.legend(handles, colors.keys(), title='Species')\n",
    "plt.show()"
   ]
  }
 ],
 "metadata": {
  "language_info": {
   "name": "python"
  }
 },
 "nbformat": 4,
 "nbformat_minor": 5
}
